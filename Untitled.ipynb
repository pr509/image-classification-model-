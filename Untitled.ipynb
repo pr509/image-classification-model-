{
 "cells": [
  {
   "cell_type": "code",
   "execution_count": 1,
   "id": "d02f9387",
   "metadata": {},
   "outputs": [],
   "source": [
    "import pandas as pd \n",
    "import numpy as np \n",
    "import cv2 as cv \n",
    "import matplotlib.pyplot as plt \n",
    "import seaborn as sea "
   ]
  },
  {
   "cell_type": "code",
   "execution_count": 2,
   "id": "fffeb5f1",
   "metadata": {},
   "outputs": [],
   "source": [
    "import os "
   ]
  },
  {
   "cell_type": "code",
   "execution_count": 3,
   "id": "166d701a",
   "metadata": {},
   "outputs": [],
   "source": [
    "path='dataset'"
   ]
  },
  {
   "cell_type": "code",
   "execution_count": 4,
   "id": "2338ca3d",
   "metadata": {},
   "outputs": [
    {
     "data": {
      "text/plain": [
       "['test', 'train']"
      ]
     },
     "execution_count": 4,
     "metadata": {},
     "output_type": "execute_result"
    }
   ],
   "source": [
    "os.listdir(path)"
   ]
  },
  {
   "cell_type": "code",
   "execution_count": 5,
   "id": "d99b2764",
   "metadata": {},
   "outputs": [],
   "source": [
    "train_path=path+'/train/'\n",
    "test_path=path+'/test/'"
   ]
  },
  {
   "cell_type": "code",
   "execution_count": 6,
   "id": "a0976ce3",
   "metadata": {},
   "outputs": [
    {
     "data": {
      "text/plain": [
       "'dataset'"
      ]
     },
     "execution_count": 6,
     "metadata": {},
     "output_type": "execute_result"
    }
   ],
   "source": [
    "path"
   ]
  },
  {
   "cell_type": "code",
   "execution_count": 7,
   "id": "78bb3eef",
   "metadata": {},
   "outputs": [
    {
     "data": {
      "text/plain": [
       "'dataset/train/'"
      ]
     },
     "execution_count": 7,
     "metadata": {},
     "output_type": "execute_result"
    }
   ],
   "source": [
    "train_path"
   ]
  },
  {
   "cell_type": "code",
   "execution_count": 8,
   "id": "47352269",
   "metadata": {},
   "outputs": [
    {
     "data": {
      "text/plain": [
       "'dataset/test/'"
      ]
     },
     "execution_count": 8,
     "metadata": {},
     "output_type": "execute_result"
    }
   ],
   "source": [
    "test_path"
   ]
  },
  {
   "cell_type": "code",
   "execution_count": 9,
   "id": "e2879da8",
   "metadata": {},
   "outputs": [
    {
     "data": {
      "text/plain": [
       "['African', 'Asian']"
      ]
     },
     "execution_count": 9,
     "metadata": {},
     "output_type": "execute_result"
    }
   ],
   "source": [
    "os.listdir(train_path)"
   ]
  },
  {
   "cell_type": "code",
   "execution_count": 10,
   "id": "101e5500",
   "metadata": {},
   "outputs": [],
   "source": [
    "var1=train_path+'/African/'"
   ]
  },
  {
   "cell_type": "code",
   "execution_count": 12,
   "id": "32bf22e5",
   "metadata": {},
   "outputs": [],
   "source": [
    "img_1=os.listdir(var1)[0]"
   ]
  },
  {
   "cell_type": "code",
   "execution_count": 13,
   "id": "96f41dfa",
   "metadata": {},
   "outputs": [
    {
     "data": {
      "text/plain": [
       "'af_tr1.jpg'"
      ]
     },
     "execution_count": 13,
     "metadata": {},
     "output_type": "execute_result"
    }
   ],
   "source": [
    "img_1"
   ]
  },
  {
   "cell_type": "code",
   "execution_count": 17,
   "id": "a59a1547",
   "metadata": {},
   "outputs": [],
   "source": [
    "img_2=cv.imread(train_path+'/African/af_tr1.jpg')"
   ]
  },
  {
   "cell_type": "code",
   "execution_count": 19,
   "id": "3c7619e4",
   "metadata": {},
   "outputs": [
    {
     "data": {
      "text/plain": [
       "-1"
      ]
     },
     "execution_count": 19,
     "metadata": {},
     "output_type": "execute_result"
    }
   ],
   "source": [
    "cv.imshow('african elephant',img_2)\n",
    "cv.waitKey(0)"
   ]
  },
  {
   "cell_type": "code",
   "execution_count": 18,
   "id": "5043bd14",
   "metadata": {},
   "outputs": [
    {
     "data": {
      "text/plain": [
       "array([[[ 66,  95,  86],\n",
       "        [ 24,  55,  46],\n",
       "        [ 72, 104,  93],\n",
       "        ...,\n",
       "        [114, 117, 122],\n",
       "        [114, 117, 122],\n",
       "        [114, 117, 122]],\n",
       "\n",
       "       [[ 72, 105,  98],\n",
       "        [ 51,  85,  75],\n",
       "        [ 84, 119, 109],\n",
       "        ...,\n",
       "        [128, 131, 136],\n",
       "        [124, 127, 132],\n",
       "        [119, 122, 127]],\n",
       "\n",
       "       [[ 89, 130, 123],\n",
       "        [ 47,  88,  80],\n",
       "        [ 79, 122, 113],\n",
       "        ...,\n",
       "        [135, 138, 143],\n",
       "        [129, 132, 137],\n",
       "        [120, 123, 128]],\n",
       "\n",
       "       ...,\n",
       "\n",
       "       [[113, 136, 151],\n",
       "        [104, 125, 140],\n",
       "        [ 29,  51,  63],\n",
       "        ...,\n",
       "        [ 25,  36,  44],\n",
       "        [ 26,  37,  45],\n",
       "        [ 27,  36,  45]],\n",
       "\n",
       "       [[139, 161, 173],\n",
       "        [ 64,  86,  98],\n",
       "        [ 31,  50,  63],\n",
       "        ...,\n",
       "        [ 18,  28,  35],\n",
       "        [ 30,  40,  47],\n",
       "        [ 39,  47,  54]],\n",
       "\n",
       "       [[139, 161, 173],\n",
       "        [ 64,  86,  98],\n",
       "        [ 33,  50,  63],\n",
       "        ...,\n",
       "        [ 20,  28,  35],\n",
       "        [ 32,  40,  47],\n",
       "        [ 39,  47,  54]]], dtype=uint8)"
      ]
     },
     "execution_count": 18,
     "metadata": {},
     "output_type": "execute_result"
    }
   ],
   "source": [
    "img_2"
   ]
  },
  {
   "cell_type": "code",
   "execution_count": 20,
   "id": "e7ae6c6f",
   "metadata": {},
   "outputs": [],
   "source": [
    "dim1=[]\n",
    "dim2=[]\n",
    "\n",
    "\n",
    "for pic in os.listdir(train_path+'/Asian/'):\n",
    "    img=cv.imread(train_path+'/Asian/'+pic)\n",
    "    d1,d2,d3=img.shape\n",
    "    dim1.append(d1)\n",
    "    dim2.append(d2)"
   ]
  },
  {
   "cell_type": "code",
   "execution_count": 21,
   "id": "bceccb27",
   "metadata": {},
   "outputs": [
    {
     "data": {
      "text/plain": [
       "[194,\n",
       " 183,\n",
       " 183,\n",
       " 275,\n",
       " 184,\n",
       " 181,\n",
       " 100,\n",
       " 194,\n",
       " 183,\n",
       " 184,\n",
       " 183,\n",
       " 194,\n",
       " 194,\n",
       " 275,\n",
       " 183,\n",
       " 179,\n",
       " 183,\n",
       " 184,\n",
       " 194,\n",
       " 171,\n",
       " 183,\n",
       " 194,\n",
       " 168,\n",
       " 168,\n",
       " 194,\n",
       " 182,\n",
       " 183,\n",
       " 183,\n",
       " 194,\n",
       " 259,\n",
       " 185,\n",
       " 183,\n",
       " 179,\n",
       " 183,\n",
       " 194,\n",
       " 183,\n",
       " 189,\n",
       " 185,\n",
       " 194,\n",
       " 190,\n",
       " 100,\n",
       " 183,\n",
       " 227,\n",
       " 194,\n",
       " 183,\n",
       " 194,\n",
       " 183,\n",
       " 194,\n",
       " 183,\n",
       " 275,\n",
       " 183,\n",
       " 183,\n",
       " 183,\n",
       " 183,\n",
       " 183,\n",
       " 168,\n",
       " 194,\n",
       " 194,\n",
       " 194,\n",
       " 183,\n",
       " 151,\n",
       " 188,\n",
       " 183,\n",
       " 183,\n",
       " 183,\n",
       " 183,\n",
       " 183,\n",
       " 100,\n",
       " 100,\n",
       " 100,\n",
       " 194,\n",
       " 181,\n",
       " 183,\n",
       " 183,\n",
       " 183,\n",
       " 184,\n",
       " 100,\n",
       " 100,\n",
       " 166,\n",
       " 194,\n",
       " 100,\n",
       " 183,\n",
       " 184,\n",
       " 100,\n",
       " 100,\n",
       " 183,\n",
       " 100,\n",
       " 168,\n",
       " 183,\n",
       " 194,\n",
       " 168,\n",
       " 194,\n",
       " 183,\n",
       " 194,\n",
       " 183,\n",
       " 168,\n",
       " 194,\n",
       " 183,\n",
       " 225,\n",
       " 196,\n",
       " 194,\n",
       " 168,\n",
       " 192,\n",
       " 183,\n",
       " 183,\n",
       " 100,\n",
       " 194,\n",
       " 194,\n",
       " 206,\n",
       " 158,\n",
       " 265,\n",
       " 183,\n",
       " 183,\n",
       " 100,\n",
       " 183,\n",
       " 183,\n",
       " 194,\n",
       " 275,\n",
       " 100,\n",
       " 183,\n",
       " 300,\n",
       " 183,\n",
       " 100,\n",
       " 183,\n",
       " 183,\n",
       " 194,\n",
       " 265,\n",
       " 194,\n",
       " 183,\n",
       " 225,\n",
       " 100,\n",
       " 100,\n",
       " 275,\n",
       " 194,\n",
       " 183,\n",
       " 191,\n",
       " 183,\n",
       " 275,\n",
       " 183,\n",
       " 183,\n",
       " 183,\n",
       " 183,\n",
       " 183,\n",
       " 183,\n",
       " 183,\n",
       " 170,\n",
       " 259,\n",
       " 275,\n",
       " 183,\n",
       " 100,\n",
       " 183,\n",
       " 183,\n",
       " 100,\n",
       " 198,\n",
       " 196,\n",
       " 189,\n",
       " 178,\n",
       " 189,\n",
       " 183,\n",
       " 226,\n",
       " 194,\n",
       " 100,\n",
       " 100,\n",
       " 194,\n",
       " 207,\n",
       " 275,\n",
       " 183,\n",
       " 183,\n",
       " 259,\n",
       " 174,\n",
       " 270,\n",
       " 183,\n",
       " 183,\n",
       " 275,\n",
       " 276,\n",
       " 100,\n",
       " 184,\n",
       " 183,\n",
       " 183,\n",
       " 194,\n",
       " 275,\n",
       " 275,\n",
       " 168,\n",
       " 100,\n",
       " 194,\n",
       " 275,\n",
       " 183,\n",
       " 194,\n",
       " 183,\n",
       " 183,\n",
       " 183,\n",
       " 194,\n",
       " 168,\n",
       " 194,\n",
       " 183,\n",
       " 177,\n",
       " 190,\n",
       " 183,\n",
       " 194,\n",
       " 100,\n",
       " 183,\n",
       " 183,\n",
       " 187,\n",
       " 257,\n",
       " 275,\n",
       " 194,\n",
       " 168,\n",
       " 183,\n",
       " 194,\n",
       " 183,\n",
       " 183,\n",
       " 100,\n",
       " 100,\n",
       " 183,\n",
       " 194,\n",
       " 275,\n",
       " 100,\n",
       " 100,\n",
       " 183,\n",
       " 183,\n",
       " 183,\n",
       " 183,\n",
       " 244,\n",
       " 275,\n",
       " 100,\n",
       " 183,\n",
       " 194,\n",
       " 184,\n",
       " 183,\n",
       " 194,\n",
       " 183,\n",
       " 255,\n",
       " 183,\n",
       " 184,\n",
       " 194,\n",
       " 183,\n",
       " 194,\n",
       " 100,\n",
       " 183,\n",
       " 100,\n",
       " 186,\n",
       " 183,\n",
       " 183,\n",
       " 183,\n",
       " 183,\n",
       " 184,\n",
       " 194,\n",
       " 183,\n",
       " 183,\n",
       " 183,\n",
       " 194,\n",
       " 153,\n",
       " 100,\n",
       " 184,\n",
       " 194,\n",
       " 183,\n",
       " 276,\n",
       " 183,\n",
       " 183,\n",
       " 194,\n",
       " 100,\n",
       " 191,\n",
       " 194,\n",
       " 184,\n",
       " 183,\n",
       " 175,\n",
       " 183,\n",
       " 194,\n",
       " 183,\n",
       " 194,\n",
       " 194,\n",
       " 194,\n",
       " 259,\n",
       " 225,\n",
       " 183,\n",
       " 191,\n",
       " 201,\n",
       " 100,\n",
       " 183,\n",
       " 242,\n",
       " 202,\n",
       " 138,\n",
       " 100,\n",
       " 183,\n",
       " 183,\n",
       " 181,\n",
       " 183,\n",
       " 187,\n",
       " 225,\n",
       " 190,\n",
       " 194,\n",
       " 183,\n",
       " 183,\n",
       " 206,\n",
       " 194,\n",
       " 167,\n",
       " 194,\n",
       " 183,\n",
       " 194,\n",
       " 183,\n",
       " 184,\n",
       " 197,\n",
       " 206,\n",
       " 274,\n",
       " 183,\n",
       " 183,\n",
       " 183,\n",
       " 194,\n",
       " 183,\n",
       " 261,\n",
       " 191,\n",
       " 194,\n",
       " 275,\n",
       " 192,\n",
       " 197,\n",
       " 190,\n",
       " 168,\n",
       " 225,\n",
       " 180,\n",
       " 183,\n",
       " 183,\n",
       " 183,\n",
       " 241,\n",
       " 194,\n",
       " 194,\n",
       " 192,\n",
       " 183,\n",
       " 100,\n",
       " 167,\n",
       " 203,\n",
       " 275,\n",
       " 209,\n",
       " 194,\n",
       " 259,\n",
       " 183,\n",
       " 100,\n",
       " 259,\n",
       " 100,\n",
       " 183,\n",
       " 168,\n",
       " 183,\n",
       " 183,\n",
       " 183,\n",
       " 168,\n",
       " 197,\n",
       " 100,\n",
       " 256,\n",
       " 194,\n",
       " 196,\n",
       " 183,\n",
       " 267,\n",
       " 183,\n",
       " 183,\n",
       " 183,\n",
       " 168,\n",
       " 194,\n",
       " 178,\n",
       " 194,\n",
       " 183,\n",
       " 183,\n",
       " 100,\n",
       " 191,\n",
       " 172,\n",
       " 152,\n",
       " 183,\n",
       " 177,\n",
       " 100,\n",
       " 183,\n",
       " 183,\n",
       " 194,\n",
       " 194,\n",
       " 194,\n",
       " 190,\n",
       " 183,\n",
       " 194,\n",
       " 190,\n",
       " 183,\n",
       " 181,\n",
       " 183,\n",
       " 198,\n",
       " 204,\n",
       " 194,\n",
       " 275,\n",
       " 194,\n",
       " 183,\n",
       " 183,\n",
       " 183,\n",
       " 100,\n",
       " 194,\n",
       " 194,\n",
       " 173,\n",
       " 183,\n",
       " 183,\n",
       " 194,\n",
       " 183,\n",
       " 257,\n",
       " 269,\n",
       " 183,\n",
       " 183,\n",
       " 201,\n",
       " 183,\n",
       " 100,\n",
       " 194,\n",
       " 189,\n",
       " 194,\n",
       " 184,\n",
       " 183,\n",
       " 275,\n",
       " 259,\n",
       " 275,\n",
       " 249,\n",
       " 168,\n",
       " 194,\n",
       " 225,\n",
       " 183,\n",
       " 201,\n",
       " 183,\n",
       " 168,\n",
       " 189,\n",
       " 194]"
      ]
     },
     "execution_count": 21,
     "metadata": {},
     "output_type": "execute_result"
    }
   ],
   "source": [
    "dim1"
   ]
  },
  {
   "cell_type": "code",
   "execution_count": 24,
   "id": "002b5586",
   "metadata": {},
   "outputs": [],
   "source": [
    "img_size=(100,100,3)"
   ]
  },
  {
   "cell_type": "code",
   "execution_count": 25,
   "id": "85fc3cf1",
   "metadata": {},
   "outputs": [
    {
     "data": {
      "text/plain": [
       "420"
      ]
     },
     "execution_count": 25,
     "metadata": {},
     "output_type": "execute_result"
    }
   ],
   "source": [
    "len(dim1)"
   ]
  },
  {
   "cell_type": "code",
   "execution_count": 26,
   "id": "bc8f9ab1",
   "metadata": {},
   "outputs": [],
   "source": [
    "from tensorflow.keras.preprocessing.image import ImageDataGenerator"
   ]
  },
  {
   "cell_type": "code",
   "execution_count": 27,
   "id": "9df215de",
   "metadata": {},
   "outputs": [
    {
     "data": {
      "text/plain": [
       "'as_te1.jpg'"
      ]
     },
     "execution_count": 27,
     "metadata": {},
     "output_type": "execute_result"
    }
   ],
   "source": [
    "test=os.listdir(test_path+'/Asian/')[0]\n",
    "test"
   ]
  },
  {
   "cell_type": "code",
   "execution_count": 28,
   "id": "0708f424",
   "metadata": {},
   "outputs": [],
   "source": [
    "test=cv.imread(test_path+'/Asian/as_te1.jpg')"
   ]
  },
  {
   "cell_type": "code",
   "execution_count": 29,
   "id": "0266615d",
   "metadata": {},
   "outputs": [],
   "source": [
    "image_gen=ImageDataGenerator(rotation_range=20,\n",
    "                            width_shift_range=0.2,\n",
    "                            height_shift_range=0.2,\n",
    "                            rescale=1/255,\n",
    "                             shear_range=0.1,\n",
    "                             zoom_range=0.1,\n",
    "                             horizontal_flip=True,\n",
    "                             vertical_flip=True,\n",
    "                             fill_mode='nearest'\n",
    "                            )"
   ]
  },
  {
   "cell_type": "code",
   "execution_count": 32,
   "id": "81b5ab9a",
   "metadata": {},
   "outputs": [
    {
     "data": {
      "text/plain": [
       "-1"
      ]
     },
     "execution_count": 32,
     "metadata": {},
     "output_type": "execute_result"
    }
   ],
   "source": [
    "cv.imshow('transformed_img',image_gen.random_transform(test))\n",
    "cv.waitKey(0)"
   ]
  },
  {
   "cell_type": "code",
   "execution_count": 33,
   "id": "65094db7",
   "metadata": {},
   "outputs": [
    {
     "name": "stdout",
     "output_type": "stream",
     "text": [
      "Found 840 images belonging to 2 classes.\n"
     ]
    },
    {
     "data": {
      "text/plain": [
       "<keras.preprocessing.image.DirectoryIterator at 0x1c1ff506820>"
      ]
     },
     "execution_count": 33,
     "metadata": {},
     "output_type": "execute_result"
    }
   ],
   "source": [
    "image_gen.flow_from_directory(train_path)"
   ]
  },
  {
   "cell_type": "code",
   "execution_count": 34,
   "id": "c1ba66a1",
   "metadata": {},
   "outputs": [],
   "source": [
    "import tensorflow as tf \n",
    "from tensorflow import keras \n",
    "from tensorflow.keras import layers "
   ]
  },
  {
   "cell_type": "code",
   "execution_count": 35,
   "id": "7b7badca",
   "metadata": {},
   "outputs": [],
   "source": [
    "from tensorflow.keras.layers import Conv2D,MaxPool2D,Dropout,Flatten,Dense"
   ]
  },
  {
   "cell_type": "code",
   "execution_count": 39,
   "id": "26b73d16",
   "metadata": {},
   "outputs": [],
   "source": [
    "model=keras.Sequential()\n",
    "\n",
    "model.add(Conv2D(64,(3,3),activation='relu',input_shape=img_size))\n",
    "model.add(MaxPool2D(2,2))\n",
    "model.add(Conv2D(128,kernel_size=(3,3),activation='relu'))\n",
    "model.add(MaxPool2D(2,2))\n",
    "model.add(Flatten())\n",
    "model.add(Dense(256,activation='relu'))\n",
    "model.add(Dropout(0.5))\n",
    "model.add(Dense(1,activation='sigmoid'))\n",
    "\n",
    "\n",
    "model.compile(optimizer='adam',loss='binary_crossentropy',metrics=['accuracy'])"
   ]
  },
  {
   "cell_type": "code",
   "execution_count": 40,
   "id": "fc77f63f",
   "metadata": {},
   "outputs": [
    {
     "name": "stdout",
     "output_type": "stream",
     "text": [
      "Model: \"sequential_2\"\n",
      "_________________________________________________________________\n",
      " Layer (type)                Output Shape              Param #   \n",
      "=================================================================\n",
      " conv2d (Conv2D)             (None, 98, 98, 64)        1792      \n",
      "                                                                 \n",
      " max_pooling2d (MaxPooling2D  (None, 49, 49, 64)       0         \n",
      " )                                                               \n",
      "                                                                 \n",
      " conv2d_1 (Conv2D)           (None, 47, 47, 128)       73856     \n",
      "                                                                 \n",
      " max_pooling2d_1 (MaxPooling  (None, 23, 23, 128)      0         \n",
      " 2D)                                                             \n",
      "                                                                 \n",
      " flatten (Flatten)           (None, 67712)             0         \n",
      "                                                                 \n",
      " dense (Dense)               (None, 256)               17334528  \n",
      "                                                                 \n",
      " dropout (Dropout)           (None, 256)               0         \n",
      "                                                                 \n",
      " dense_1 (Dense)             (None, 1)                 257       \n",
      "                                                                 \n",
      "=================================================================\n",
      "Total params: 17,410,433\n",
      "Trainable params: 17,410,433\n",
      "Non-trainable params: 0\n",
      "_________________________________________________________________\n"
     ]
    }
   ],
   "source": [
    "model.summary()"
   ]
  },
  {
   "cell_type": "code",
   "execution_count": 41,
   "id": "857601a0",
   "metadata": {},
   "outputs": [],
   "source": [
    "from tensorflow.keras.callbacks import EarlyStopping\n",
    "call=EarlyStopping(patience=5, min_delta=0.0001,monitor='val_loss')"
   ]
  },
  {
   "cell_type": "code",
   "execution_count": 43,
   "id": "ec5df80d",
   "metadata": {},
   "outputs": [
    {
     "name": "stdout",
     "output_type": "stream",
     "text": [
      "Found 840 images belonging to 2 classes.\n"
     ]
    }
   ],
   "source": [
    "train_img=image_gen.flow_from_directory(train_path,\n",
    "                                     target_size=img_size[:2],\n",
    "                                     color_mode='rgb',\n",
    "                                     batch_size=16,\n",
    "                                     class_mode='binary')"
   ]
  },
  {
   "cell_type": "code",
   "execution_count": 44,
   "id": "a74f4df8",
   "metadata": {},
   "outputs": [
    {
     "name": "stdout",
     "output_type": "stream",
     "text": [
      "Found 188 images belonging to 2 classes.\n"
     ]
    }
   ],
   "source": [
    "test_img=image_gen.flow_from_directory(test_path,\n",
    "                                     target_size=img_size[:2],\n",
    "                                     color_mode='rgb',\n",
    "                                     batch_size=8,\n",
    "                                     class_mode='binary',\n",
    "                                      shuffle=False)"
   ]
  },
  {
   "cell_type": "code",
   "execution_count": 45,
   "id": "6a928039",
   "metadata": {},
   "outputs": [
    {
     "data": {
      "text/plain": [
       "(100, 100)"
      ]
     },
     "execution_count": 45,
     "metadata": {},
     "output_type": "execute_result"
    }
   ],
   "source": [
    "img_size[:2]"
   ]
  },
  {
   "cell_type": "code",
   "execution_count": 46,
   "id": "ac502435",
   "metadata": {},
   "outputs": [
    {
     "name": "stderr",
     "output_type": "stream",
     "text": [
      "<ipython-input-46-b7b4c8146aae>:1: UserWarning: `Model.fit_generator` is deprecated and will be removed in a future version. Please use `Model.fit`, which supports generators.\n",
      "  results=model.fit_generator(train_img,\n"
     ]
    },
    {
     "name": "stdout",
     "output_type": "stream",
     "text": [
      "Epoch 1/40\n",
      "53/53 [==============================] - 59s 999ms/step - loss: 0.8419 - accuracy: 0.5250 - val_loss: 0.6937 - val_accuracy: 0.4574\n",
      "Epoch 2/40\n",
      "53/53 [==============================] - 31s 576ms/step - loss: 0.6933 - accuracy: 0.4893 - val_loss: 0.6933 - val_accuracy: 0.4840\n",
      "Epoch 3/40\n",
      "53/53 [==============================] - 30s 564ms/step - loss: 0.6952 - accuracy: 0.5083 - val_loss: 0.6929 - val_accuracy: 0.4681\n",
      "Epoch 4/40\n",
      "53/53 [==============================] - 31s 592ms/step - loss: 0.6939 - accuracy: 0.5095 - val_loss: 0.6951 - val_accuracy: 0.4947\n",
      "Epoch 5/40\n",
      "53/53 [==============================] - 33s 613ms/step - loss: 0.6940 - accuracy: 0.4774 - val_loss: 0.6929 - val_accuracy: 0.4894\n",
      "Epoch 6/40\n",
      "53/53 [==============================] - 32s 595ms/step - loss: 0.6928 - accuracy: 0.4905 - val_loss: 0.6946 - val_accuracy: 0.4468\n",
      "Epoch 7/40\n",
      "53/53 [==============================] - 30s 569ms/step - loss: 0.6937 - accuracy: 0.5012 - val_loss: 0.6934 - val_accuracy: 0.4840\n",
      "Epoch 8/40\n",
      "53/53 [==============================] - 30s 568ms/step - loss: 0.6927 - accuracy: 0.5024 - val_loss: 0.6958 - val_accuracy: 0.4415\n"
     ]
    }
   ],
   "source": [
    "results=model.fit_generator(train_img,\n",
    "                           callbacks=[call],\n",
    "                           validation_data=test_img,\n",
    "                           epochs=40)"
   ]
  },
  {
   "cell_type": "code",
   "execution_count": 49,
   "id": "d088eac0",
   "metadata": {},
   "outputs": [],
   "source": [
    "loss=pd.DataFrame(model.history.history)"
   ]
  },
  {
   "cell_type": "code",
   "execution_count": 50,
   "id": "52fbbde4",
   "metadata": {},
   "outputs": [
    {
     "data": {
      "text/html": [
       "<div>\n",
       "<style scoped>\n",
       "    .dataframe tbody tr th:only-of-type {\n",
       "        vertical-align: middle;\n",
       "    }\n",
       "\n",
       "    .dataframe tbody tr th {\n",
       "        vertical-align: top;\n",
       "    }\n",
       "\n",
       "    .dataframe thead th {\n",
       "        text-align: right;\n",
       "    }\n",
       "</style>\n",
       "<table border=\"1\" class=\"dataframe\">\n",
       "  <thead>\n",
       "    <tr style=\"text-align: right;\">\n",
       "      <th></th>\n",
       "      <th>loss</th>\n",
       "      <th>accuracy</th>\n",
       "      <th>val_loss</th>\n",
       "      <th>val_accuracy</th>\n",
       "    </tr>\n",
       "  </thead>\n",
       "  <tbody>\n",
       "    <tr>\n",
       "      <th>0</th>\n",
       "      <td>0.841893</td>\n",
       "      <td>0.525000</td>\n",
       "      <td>0.693674</td>\n",
       "      <td>0.457447</td>\n",
       "    </tr>\n",
       "    <tr>\n",
       "      <th>1</th>\n",
       "      <td>0.693292</td>\n",
       "      <td>0.489286</td>\n",
       "      <td>0.693312</td>\n",
       "      <td>0.484043</td>\n",
       "    </tr>\n",
       "    <tr>\n",
       "      <th>2</th>\n",
       "      <td>0.695239</td>\n",
       "      <td>0.508333</td>\n",
       "      <td>0.692881</td>\n",
       "      <td>0.468085</td>\n",
       "    </tr>\n",
       "    <tr>\n",
       "      <th>3</th>\n",
       "      <td>0.693861</td>\n",
       "      <td>0.509524</td>\n",
       "      <td>0.695147</td>\n",
       "      <td>0.494681</td>\n",
       "    </tr>\n",
       "    <tr>\n",
       "      <th>4</th>\n",
       "      <td>0.694011</td>\n",
       "      <td>0.477381</td>\n",
       "      <td>0.692862</td>\n",
       "      <td>0.489362</td>\n",
       "    </tr>\n",
       "    <tr>\n",
       "      <th>5</th>\n",
       "      <td>0.692783</td>\n",
       "      <td>0.490476</td>\n",
       "      <td>0.694637</td>\n",
       "      <td>0.446809</td>\n",
       "    </tr>\n",
       "    <tr>\n",
       "      <th>6</th>\n",
       "      <td>0.693652</td>\n",
       "      <td>0.501190</td>\n",
       "      <td>0.693405</td>\n",
       "      <td>0.484043</td>\n",
       "    </tr>\n",
       "    <tr>\n",
       "      <th>7</th>\n",
       "      <td>0.692685</td>\n",
       "      <td>0.502381</td>\n",
       "      <td>0.695810</td>\n",
       "      <td>0.441489</td>\n",
       "    </tr>\n",
       "  </tbody>\n",
       "</table>\n",
       "</div>"
      ],
      "text/plain": [
       "       loss  accuracy  val_loss  val_accuracy\n",
       "0  0.841893  0.525000  0.693674      0.457447\n",
       "1  0.693292  0.489286  0.693312      0.484043\n",
       "2  0.695239  0.508333  0.692881      0.468085\n",
       "3  0.693861  0.509524  0.695147      0.494681\n",
       "4  0.694011  0.477381  0.692862      0.489362\n",
       "5  0.692783  0.490476  0.694637      0.446809\n",
       "6  0.693652  0.501190  0.693405      0.484043\n",
       "7  0.692685  0.502381  0.695810      0.441489"
      ]
     },
     "execution_count": 50,
     "metadata": {},
     "output_type": "execute_result"
    }
   ],
   "source": [
    "loss"
   ]
  },
  {
   "cell_type": "code",
   "execution_count": 51,
   "id": "4bb27201",
   "metadata": {},
   "outputs": [
    {
     "data": {
      "text/plain": [
       "<AxesSubplot:>"
      ]
     },
     "execution_count": 51,
     "metadata": {},
     "output_type": "execute_result"
    },
    {
     "data": {
      "image/png": "[encoded data removed]",
      "text/plain": [
       "<Figure size 432x288 with 1 Axes>"
      ]
     },
     "metadata": {
      "needs_background": "light"
     },
     "output_type": "display_data"
    }
   ],
   "source": [
    "loss[['accuracy','val_accuracy']].plot()"
   ]
  },
  {
   "cell_type": "code",
   "execution_count": 52,
   "id": "207859da",
   "metadata": {},
   "outputs": [
    {
     "data": {
      "text/plain": [
       "<AxesSubplot:>"
      ]
     },
     "execution_count": 52,
     "metadata": {},
     "output_type": "execute_result"
    },
    {
     "data": {
      "image/png": "[encoded data removed]",
      "text/plain": [
       "<Figure size 432x288 with 1 Axes>"
      ]
     },
     "metadata": {
      "needs_background": "light"
     },
     "output_type": "display_data"
    }
   ],
   "source": [
    "loss[['loss','val_loss']].plot()"
   ]
  },
  {
   "cell_type": "code",
   "execution_count": 53,
   "id": "895ea62a",
   "metadata": {},
   "outputs": [
    {
     "name": "stderr",
     "output_type": "stream",
     "text": [
      "<ipython-input-53-48713739b211>:1: UserWarning: `Model.evaluate_generator` is deprecated and will be removed in a future version. Please use `Model.evaluate`, which supports generators.\n",
      "  model.evaluate_generator(test_img)\n"
     ]
    },
    {
     "data": {
      "text/plain": [
       "[0.6984860301017761, 0.49468085169792175]"
      ]
     },
     "execution_count": 53,
     "metadata": {},
     "output_type": "execute_result"
    }
   ],
   "source": [
    "model.evaluate_generator(test_img)"
   ]
  },
  {
   "cell_type": "code",
   "execution_count": 54,
   "id": "6d7b232b",
   "metadata": {},
   "outputs": [
    {
     "name": "stderr",
     "output_type": "stream",
     "text": [
      "<ipython-input-54-24febda13125>:1: UserWarning: `Model.predict_generator` is deprecated and will be removed in a future version. Please use `Model.predict`, which supports generators.\n",
      "  pred=model.predict_generator(test_img)\n"
     ]
    }
   ],
   "source": [
    "pred=model.predict_generator(test_img)"
   ]
  },
  {
   "cell_type": "code",
   "execution_count": 55,
   "id": "ee6c943d",
   "metadata": {},
   "outputs": [
    {
     "data": {
      "text/plain": [
       "array([[0.4974756 ],\n",
       "       [0.50146925],\n",
       "       [0.45425782],\n",
       "       [0.49335277],\n",
       "       [0.49811992],\n",
       "       [0.50176424],\n",
       "       [0.49406   ],\n",
       "       [0.50159657],\n",
       "       [0.4966266 ],\n",
       "       [0.50220966],\n",
       "       [0.5020994 ],\n",
       "       [0.50128764],\n",
       "       [0.48950616],\n",
       "       [0.49790972],\n",
       "       [0.48702395],\n",
       "       [0.50171524],\n",
       "       [0.48746356],\n",
       "       [0.4986588 ],\n",
       "       [0.49920794],\n",
       "       [0.50065076],\n",
       "       [0.50083435],\n",
       "       [0.4883068 ],\n",
       "       [0.5003586 ],\n",
       "       [0.4456852 ],\n",
       "       [0.5034402 ],\n",
       "       [0.4982833 ],\n",
       "       [0.50286794],\n",
       "       [0.4995076 ],\n",
       "       [0.50043535],\n",
       "       [0.4999768 ],\n",
       "       [0.46756822],\n",
       "       [0.49176508],\n",
       "       [0.5020255 ],\n",
       "       [0.5028198 ],\n",
       "       [0.4972662 ],\n",
       "       [0.46144533],\n",
       "       [0.49342248],\n",
       "       [0.48417622],\n",
       "       [0.49675217],\n",
       "       [0.49017638],\n",
       "       [0.48188192],\n",
       "       [0.50202924],\n",
       "       [0.48246396],\n",
       "       [0.50238466],\n",
       "       [0.50128025],\n",
       "       [0.4948963 ],\n",
       "       [0.5009568 ],\n",
       "       [0.48096567],\n",
       "       [0.49676898],\n",
       "       [0.4968308 ],\n",
       "       [0.47253418],\n",
       "       [0.49719718],\n",
       "       [0.50216633],\n",
       "       [0.49597347],\n",
       "       [0.4769659 ],\n",
       "       [0.5034559 ],\n",
       "       [0.49153036],\n",
       "       [0.48719478],\n",
       "       [0.48624894],\n",
       "       [0.4998901 ],\n",
       "       [0.4867441 ],\n",
       "       [0.49954638],\n",
       "       [0.4927863 ],\n",
       "       [0.50167125],\n",
       "       [0.4958584 ],\n",
       "       [0.50032145],\n",
       "       [0.48870856],\n",
       "       [0.4791983 ],\n",
       "       [0.50005263],\n",
       "       [0.504647  ],\n",
       "       [0.48350623],\n",
       "       [0.49700958],\n",
       "       [0.47368905],\n",
       "       [0.4839256 ],\n",
       "       [0.501236  ],\n",
       "       [0.49772263],\n",
       "       [0.4617506 ],\n",
       "       [0.49895275],\n",
       "       [0.5006892 ],\n",
       "       [0.4943447 ],\n",
       "       [0.50133324],\n",
       "       [0.5004994 ],\n",
       "       [0.49715802],\n",
       "       [0.35992932],\n",
       "       [0.4754203 ],\n",
       "       [0.50158405],\n",
       "       [0.48269898],\n",
       "       [0.49237245],\n",
       "       [0.49048018],\n",
       "       [0.49119532],\n",
       "       [0.49693608],\n",
       "       [0.4978498 ],\n",
       "       [0.50249475],\n",
       "       [0.4900693 ],\n",
       "       [0.49732667],\n",
       "       [0.48137814],\n",
       "       [0.49508888],\n",
       "       [0.50068194],\n",
       "       [0.4884292 ],\n",
       "       [0.4539203 ],\n",
       "       [0.4960685 ],\n",
       "       [0.49005213],\n",
       "       [0.50139964],\n",
       "       [0.4991962 ],\n",
       "       [0.47687626],\n",
       "       [0.49658218],\n",
       "       [0.5032871 ],\n",
       "       [0.4919932 ],\n",
       "       [0.4959075 ],\n",
       "       [0.49699888],\n",
       "       [0.5005211 ],\n",
       "       [0.4997074 ],\n",
       "       [0.4898333 ],\n",
       "       [0.4833513 ],\n",
       "       [0.4913482 ],\n",
       "       [0.49493268],\n",
       "       [0.49462128],\n",
       "       [0.4647376 ],\n",
       "       [0.49643964],\n",
       "       [0.4984365 ],\n",
       "       [0.4868643 ],\n",
       "       [0.49167606],\n",
       "       [0.46355414],\n",
       "       [0.49146843],\n",
       "       [0.4937509 ],\n",
       "       [0.4994972 ],\n",
       "       [0.4929847 ],\n",
       "       [0.49535692],\n",
       "       [0.5370073 ],\n",
       "       [0.49091926],\n",
       "       [0.50569665],\n",
       "       [0.43986285],\n",
       "       [0.5027854 ],\n",
       "       [0.5022974 ],\n",
       "       [0.49245945],\n",
       "       [0.49491996],\n",
       "       [0.48903152],\n",
       "       [0.50402397],\n",
       "       [0.49247125],\n",
       "       [0.40287998],\n",
       "       [0.49169177],\n",
       "       [0.493905  ],\n",
       "       [0.48368692],\n",
       "       [0.48551467],\n",
       "       [0.4449816 ],\n",
       "       [0.502473  ],\n",
       "       [0.49582052],\n",
       "       [0.5017446 ],\n",
       "       [0.46050805],\n",
       "       [0.4911526 ],\n",
       "       [0.49576548],\n",
       "       [0.49562696],\n",
       "       [0.4995815 ],\n",
       "       [0.4902613 ],\n",
       "       [0.48916188],\n",
       "       [0.49202564],\n",
       "       [0.49291003],\n",
       "       [0.49445242],\n",
       "       [0.45999837],\n",
       "       [0.49875498],\n",
       "       [0.5001079 ],\n",
       "       [0.48920268],\n",
       "       [0.5021937 ],\n",
       "       [0.50118524],\n",
       "       [0.4705172 ],\n",
       "       [0.3751809 ],\n",
       "       [0.49827424],\n",
       "       [0.5009008 ],\n",
       "       [0.49909538],\n",
       "       [0.49450573],\n",
       "       [0.49624512],\n",
       "       [0.50009453],\n",
       "       [0.49367088],\n",
       "       [0.50208   ],\n",
       "       [0.49539652],\n",
       "       [0.5007474 ],\n",
       "       [0.4693636 ],\n",
       "       [0.4966845 ],\n",
       "       [0.5020024 ],\n",
       "       [0.49212152],\n",
       "       [0.4926059 ],\n",
       "       [0.50148034],\n",
       "       [0.4948656 ],\n",
       "       [0.50042444],\n",
       "       [0.48060885],\n",
       "       [0.5005061 ],\n",
       "       [0.5026463 ],\n",
       "       [0.49956042]], dtype=float32)"
      ]
     },
     "execution_count": 55,
     "metadata": {},
     "output_type": "execute_result"
    }
   ],
   "source": [
    "pred"
   ]
  },
  {
   "cell_type": "code",
   "execution_count": 56,
   "id": "b3466170",
   "metadata": {},
   "outputs": [],
   "source": [
    "predd=pred>0.5"
   ]
  },
  {
   "cell_type": "code",
   "execution_count": 57,
   "id": "21a2a316",
   "metadata": {},
   "outputs": [],
   "source": [
    "from sklearn.metrics import classification_report, confusion_matrix,accuracy_score"
   ]
  },
  {
   "cell_type": "code",
   "execution_count": 58,
   "id": "d59a68cc",
   "metadata": {},
   "outputs": [
    {
     "data": {
      "text/plain": [
       "0.4734042553191489"
      ]
     },
     "execution_count": 58,
     "metadata": {},
     "output_type": "execute_result"
    }
   ],
   "source": [
    "accuracy_score(test_img.classes,predd)"
   ]
  },
  {
   "cell_type": "code",
   "execution_count": 59,
   "id": "bc2b6ae5",
   "metadata": {},
   "outputs": [
    {
     "data": {
      "text/plain": [
       "'dataset/test/'"
      ]
     },
     "execution_count": 59,
     "metadata": {},
     "output_type": "execute_result"
    }
   ],
   "source": [
    "test_path"
   ]
  },
  {
   "cell_type": "code",
   "execution_count": 60,
   "id": "23b8c385",
   "metadata": {},
   "outputs": [
    {
     "data": {
      "text/plain": [
       "['African', 'Asian']"
      ]
     },
     "execution_count": 60,
     "metadata": {},
     "output_type": "execute_result"
    }
   ],
   "source": [
    "os.listdir(test_path)"
   ]
  },
  {
   "cell_type": "code",
   "execution_count": 62,
   "id": "528e05f5",
   "metadata": {},
   "outputs": [
    {
     "data": {
      "text/plain": [
       "'as_te1.jpg'"
      ]
     },
     "execution_count": 62,
     "metadata": {},
     "output_type": "execute_result"
    }
   ],
   "source": [
    "os.listdir(test_path+'Asian')[0]"
   ]
  },
  {
   "cell_type": "code",
   "execution_count": 63,
   "id": "7eaa9c70",
   "metadata": {},
   "outputs": [],
   "source": [
    "img_asian=cv.imread(test_path+'/Asian/as_te1.jpg')"
   ]
  },
  {
   "cell_type": "code",
   "execution_count": 66,
   "id": "93b3bd2b",
   "metadata": {},
   "outputs": [
    {
     "data": {
      "text/plain": [
       "(512, 910, 3)"
      ]
     },
     "execution_count": 66,
     "metadata": {},
     "output_type": "execute_result"
    }
   ],
   "source": [
    "img_asian.shape"
   ]
  },
  {
   "cell_type": "code",
   "execution_count": 68,
   "id": "bae66c4b",
   "metadata": {},
   "outputs": [],
   "source": [
    "img_asian=cv.resize(img_asian,(100,100))"
   ]
  },
  {
   "cell_type": "code",
   "execution_count": 71,
   "id": "63668aa1",
   "metadata": {},
   "outputs": [
    {
     "data": {
      "text/plain": [
       "-1"
      ]
     },
     "execution_count": 71,
     "metadata": {},
     "output_type": "execute_result"
    }
   ],
   "source": [
    "img=cv.imshow('img_asian',img_asian)\n",
    "cv.waitKey(0)"
   ]
  },
  {
   "cell_type": "code",
   "execution_count": null,
   "id": "2c82616e",
   "metadata": {},
   "outputs": [],
   "source": []
  },
  {
   "cell_type": "code",
   "execution_count": null,
   "id": "d4c83b81",
   "metadata": {},
   "outputs": [],
   "source": []
  }
 ],
 "metadata": {
  "kernelspec": {
   "display_name": "Python 3",
   "language": "python",
   "name": "python3"
  },
  "language_info": {
   "codemirror_mode": {
    "name": "ipython",
    "version": 3
   },
   "file_extension": ".py",
   "mimetype": "text/x-python",
   "name": "python",
   "nbconvert_exporter": "python",
   "pygments_lexer": "ipython3",
   "version": "3.8.8"
  }
 },
 "nbformat": 4,
 "nbformat_minor": 5
}
